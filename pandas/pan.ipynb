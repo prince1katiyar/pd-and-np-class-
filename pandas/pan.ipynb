{
 "cells": [
  {
   "cell_type": "code",
   "execution_count": null,
   "metadata": {},
   "outputs": [],
   "source": []
  },
  {
   "cell_type": "code",
   "execution_count": 56,
   "metadata": {},
   "outputs": [],
   "source": [
    "# Today we  will discuss the series  only  everything realted to series we wil discuss today only\n",
    "\n",
    "\n",
    "\n",
    "# How to create a series in pandas ,like list ,string , dictinary ,csv file \n",
    "\n",
    "# what are the parameter are there in pandas series \n",
    "#  what are the common attribute that we can perform on series \n",
    "# what  ae method that we can perform on the seris \n",
    "# what are teh basic fucntionalities we can perform on sereis \n",
    "# how to get basic information about the series \n",
    "\n",
    "# how to plot a sereis \n",
    "# basic fucntionalities we can perform on series \n"
   ]
  },
  {
   "cell_type": "code",
   "execution_count": null,
   "metadata": {},
   "outputs": [],
   "source": [
    "'''\n",
    "\n",
    "Creation Methods:\n",
    "\n",
    "pd.Series(): Creates a new Pandas Series.\n",
    "pd.Series.from_array(): Creates a Series from an array-like object.\n",
    "pd.Series.from_csv(): Reads a Series from a CSV file.\n",
    "\n",
    "\n",
    "\n",
    "Basic Information:\n",
    "\n",
    "series.head(): Returns the first n rows of the Series.\n",
    "series.tail(): Returns the last n rows of the Series.\n",
    "series.describe(): Generates descriptive statistics of the Series.\n",
    "series.info(): Prints a concise summary of the Series.\n",
    "series.shape: Returns the shape of the Series (number of rows, number of columns).\n",
    "\n",
    "\n",
    "\n",
    "Indexing and Selection:\n",
    "\n",
    "series[index]: Accesses elements at specified index or indices.\n",
    "series.iloc[]: Accesses elements by integer position.\n",
    "series.loc[]: Accesses elements by label.\n",
    "series.isin(): Checks whether each element in the Series is contained in values.\n",
    "series.unique(): Returns unique values of Series object.\n",
    "series.value_counts(): Returns counts of unique values in the Series.\n",
    "\n",
    "\n",
    "\n",
    "Manipulation and Modification:\n",
    "\n",
    "series.append(): Appends values to the end of the Series.\n",
    "series.drop(): Drops specified labels from the Series.\n",
    "series.fillna(): Fills missing values with specified method or value.\n",
    "series.map(): Applies a function to each element of the Series.\n",
    "series.replace(): Replaces values given in to_replace with value.\n",
    "series.str.replace(): Replaces occurrences of pattern/regex in the Series.\n",
    "\n",
    "\n",
    "\n",
    "\n",
    "Aggregation and Statistical Operations:\n",
    "\n",
    "series.sum(): Returns the sum of the values.\n",
    "series.mean(): Returns the mean of the values.\n",
    "series.median(): Returns the median of the values.\n",
    "series.min(): Returns the minimum value.\n",
    "series.max(): Returns the maximum value.\n",
    "series.std(): Returns the standard deviation of the values.\n",
    "series.var(): Returns the variance of the values.\n",
    "series.count(): Returns the number of non-null values.\n",
    "series.unique(): Returns unique values of Series object.\n",
    "series.nunique(): Returns number of unique elements in the Series.\n",
    "\n",
    "\n",
    "\n",
    "Sorting and Ranking:\n",
    "\n",
    "series.sort_index(): Sorts the Series by index.\n",
    "series.sort_values(): Sorts the Series by values.\n",
    "series.rank(): Computes numerical data ranks (1 through n).\n",
    "\n",
    "\n",
    "Data Conversion:\n",
    "\n",
    "series.astype(): Casts the Series to a specified dtype.\n",
    "series.tolist(): Converts the Series to a Python list.\n",
    "series.to_dict(): Converts the Series to a Python dictionary.\n",
    "series.to_numpy(): Converts the Series to a NumPy array.\n",
    "series.to_csv(): Writes the Series to a CSV file.\n",
    "series.to_frame(): Converts the Series to a DataFrame.\n",
    "\n",
    "\n",
    "\n",
    "\n",
    "Input/Output:\n",
    "series.to_csv(): Writes the Series to a CSV file.\n",
    "series.to_json(): Converts the Series to a JSON string.\n",
    "series.to_excel(): Writes the Series to an Excel file.\n",
    "series.to_pickle(): Serializes the Series to a pickle format.\n",
    "\n",
    "\n",
    "\n",
    "Mathematical Operations:\n",
    "\n",
    "series.add(): Addition of series and other, element-wise.\n",
    "series.sub(): Subtraction of series and other, element-wise.\n",
    "series.mul(): Multiplication of series and other, element-wise.\n",
    "series.div(): Floating division of series and other, element-wise.\n",
    "series.mod(): Modulo of series and other, element-wise.\n",
    "series.pow(): Exponential power of series and other, element-wise.\n",
    "series.abs(): Absolute numeric value of each element.\n",
    "series.clip(): Trim values at input threshold(s).'''"
   ]
  },
  {
   "cell_type": "code",
   "execution_count": 57,
   "metadata": {},
   "outputs": [],
   "source": [
    "import pandas as pd\n",
    "import numpy as np"
   ]
  },
  {
   "cell_type": "code",
   "execution_count": 2,
   "metadata": {},
   "outputs": [],
   "source": [
    "df=pd.read_csv(\"services.csv\")   # only strutured data it can read "
   ]
  },
  {
   "cell_type": "code",
   "execution_count": null,
   "metadata": {},
   "outputs": [],
   "source": []
  },
  {
   "cell_type": "code",
   "execution_count": 4,
   "metadata": {},
   "outputs": [
    {
     "data": {
      "text/plain": [
       "'\\nSeries: a one-dimensional labeled array holding data of any type\\nsuch as integers, strings, Python objects etc.\\n\\nA Pandas Series is like a column in a table. It is a 1-D array holding data of any type.\\n\\n\\nDataFrame: a two-dimensional data structure that holds data like a two-dimension array or a table with rows and columns.\\n'"
      ]
     },
     "execution_count": 4,
     "metadata": {},
     "output_type": "execute_result"
    }
   ],
   "source": [
    "\"\"\"\n",
    "Series: a one-dimensional labeled array holding data of any type\n",
    "such as integers, strings, Python objects etc.\n",
    "\n",
    "A Pandas Series is like a column in a table. It is a 1-D array holding data of any type.\n",
    "\n",
    "\n",
    "DataFrame: a two-dimensional data structure that holds data like a two-dimension array or a table with rows and columns.\n",
    "\"\"\""
   ]
  },
  {
   "cell_type": "code",
   "execution_count": 5,
   "metadata": {},
   "outputs": [
    {
     "data": {
      "text/plain": [
       "0    1.0\n",
       "1    3.0\n",
       "2    5.0\n",
       "3    NaN\n",
       "4    6.0\n",
       "5    8.0\n",
       "dtype: float64"
      ]
     },
     "execution_count": 5,
     "metadata": {},
     "output_type": "execute_result"
    }
   ],
   "source": [
    "s = pd.Series([1, 3, 5, np.nan, 6, 8])\n",
    "s"
   ]
  },
  {
   "cell_type": "code",
   "execution_count": 6,
   "metadata": {},
   "outputs": [
    {
     "data": {
      "text/plain": [
       "pandas.core.series.Series"
      ]
     },
     "execution_count": 6,
     "metadata": {},
     "output_type": "execute_result"
    }
   ],
   "source": [
    "type(s)"
   ]
  },
  {
   "cell_type": "code",
   "execution_count": 53,
   "metadata": {},
   "outputs": [
    {
     "name": "stdout",
     "output_type": "stream",
     "text": [
      "      Name  Age         City\n",
      "0    Alice   25     New York\n",
      "1      Bob   30  Los Angeles\n",
      "2  Charlie   35      Chicago\n",
      "3    David   40      Houston\n"
     ]
    }
   ],
   "source": [
    "\n",
    "import pandas as pd\n",
    "\n",
    "# Creating a DataFrame from a dictionary\n",
    "data = {\n",
    "    'Name': ['Alice', 'Bob', 'Charlie', 'David'],\n",
    "    'Age': [25, 30, 35, 40],\n",
    "    'City': ['New York', 'Los Angeles', 'Chicago', 'Houston']\n",
    "}\n",
    "\n",
    "df = pd.DataFrame(data)\n",
    "\n",
    "print(df)\n"
   ]
  },
  {
   "cell_type": "code",
   "execution_count": 55,
   "metadata": {},
   "outputs": [
    {
     "data": {
      "text/plain": [
       "pandas.core.frame.DataFrame"
      ]
     },
     "execution_count": 55,
     "metadata": {},
     "output_type": "execute_result"
    }
   ],
   "source": [
    "type(df)"
   ]
  },
  {
   "cell_type": "code",
   "execution_count": null,
   "metadata": {},
   "outputs": [],
   "source": []
  },
  {
   "cell_type": "code",
   "execution_count": null,
   "metadata": {},
   "outputs": [],
   "source": []
  },
  {
   "cell_type": "code",
   "execution_count": 17,
   "metadata": {},
   "outputs": [
    {
     "name": "stdout",
     "output_type": "stream",
     "text": [
      "0    1\n",
      "1    2\n",
      "2    3\n",
      "3    4\n",
      "4    5\n",
      "dtype: int64\n"
     ]
    }
   ],
   "source": [
    "import pandas as pd\n",
    "\n",
    "# Creating a list\n",
    "data_list = [1, 2, 3, 4, 5]\n",
    "\n",
    "# Creating a Pandas Series from the list\n",
    "series_from_list = pd.Series(data_list)\n",
    "print(series_from_list)\n"
   ]
  },
  {
   "cell_type": "code",
   "execution_count": 46,
   "metadata": {},
   "outputs": [
    {
     "name": "stdout",
     "output_type": "stream",
     "text": [
      "0    h\n",
      "1    e\n",
      "2    l\n",
      "3    l\n",
      "4    o\n",
      "dtype: object\n"
     ]
    }
   ],
   "source": [
    "import pandas as pd\n",
    "\n",
    "# Creating a string\n",
    "data_string = 'hello'\n",
    "\n",
    "# Creating a Pandas Series from the string (each character becomes an element)\n",
    "series_from_string = pd.Series(list(data_string))\n",
    "print(series_from_string)\n"
   ]
  },
  {
   "cell_type": "code",
   "execution_count": 20,
   "metadata": {},
   "outputs": [
    {
     "name": "stdout",
     "output_type": "stream",
     "text": [
      "a    1\n",
      "b    2\n",
      "c    3\n",
      "d    4\n",
      "e    5\n",
      "dtype: int64\n"
     ]
    }
   ],
   "source": [
    "import pandas as pd\n",
    "\n",
    "# Creating a dictionary\n",
    "data_dict = {'a': 1, 'b': 2, 'c': 3, 'd': 4, 'e': 5}\n",
    "\n",
    "# Creating a Pandas Series from the dictionary\n",
    "series_from_dict = pd.Series(data_dict)\n",
    "print(series_from_dict)\n",
    "\n"
   ]
  },
  {
   "cell_type": "code",
   "execution_count": 22,
   "metadata": {},
   "outputs": [],
   "source": [
    "import pandas as pd\n",
    "\n",
    "# Data\n",
    "data = {'index': [0, 1, 2, 3, 4],\n",
    "        'value': [1, 2, 3, 4, 5]}\n",
    "\n",
    "# Creating a DataFrame from the data\n",
    "df = pd.DataFrame(data)\n",
    "\n",
    "# Writing DataFrame to CSV file\n",
    "df.to_csv('data.csv', index=False)\n",
    "\n"
   ]
  },
  {
   "cell_type": "code",
   "execution_count": 47,
   "metadata": {},
   "outputs": [
    {
     "name": "stdout",
     "output_type": "stream",
     "text": [
      "       value\n",
      "index       \n",
      "0          1\n",
      "1          2\n",
      "2          3\n",
      "3          4\n",
      "4          5\n"
     ]
    }
   ],
   "source": [
    "import pandas as pd\n",
    "\n",
    "# Reading the CSV file into a Pandas Series\n",
    "series_from_csv = pd.read_csv(\"data.csv\",  index_col=\"index\", usecols=[\"index\", \"value\"])\n",
    "print(series_from_csv)\n"
   ]
  },
  {
   "cell_type": "code",
   "execution_count": null,
   "metadata": {},
   "outputs": [],
   "source": []
  },
  {
   "cell_type": "code",
   "execution_count": null,
   "metadata": {},
   "outputs": [],
   "source": []
  },
  {
   "cell_type": "markdown",
   "metadata": {},
   "source": [
    "# custom index"
   ]
  },
  {
   "cell_type": "markdown",
   "metadata": {},
   "source": []
  },
  {
   "cell_type": "code",
   "execution_count": null,
   "metadata": {},
   "outputs": [],
   "source": []
  },
  {
   "cell_type": "code",
   "execution_count": 15,
   "metadata": {},
   "outputs": [
    {
     "data": {
      "text/plain": [
       "maths       67\n",
       "english     57\n",
       "science     89\n",
       "hindi      100\n",
       "dtype: int64"
      ]
     },
     "execution_count": 15,
     "metadata": {},
     "output_type": "execute_result"
    }
   ],
   "source": [
    "# custom index\n",
    "marks = [67,57,89,100]\n",
    "subjects = ['maths','english','science','hindi']\n",
    "\n",
    "pd.Series(marks,index=subjects)"
   ]
  },
  {
   "cell_type": "code",
   "execution_count": 48,
   "metadata": {},
   "outputs": [
    {
     "data": {
      "text/plain": [
       "maths       67\n",
       "english     57\n",
       "science     89\n",
       "hindi      100\n",
       "Name: mylsit, dtype: int64"
      ]
     },
     "execution_count": 48,
     "metadata": {},
     "output_type": "execute_result"
    }
   ],
   "source": [
    "# setting a name\n",
    "marks = pd.Series(marks,index=subjects,name='mylsit')\n",
    "marks"
   ]
  },
  {
   "cell_type": "code",
   "execution_count": null,
   "metadata": {},
   "outputs": [],
   "source": [
    "\n",
    "\n",
    "\n"
   ]
  },
  {
   "cell_type": "markdown",
   "metadata": {},
   "source": [
    "# basic info about series \n"
   ]
  },
  {
   "cell_type": "code",
   "execution_count": null,
   "metadata": {},
   "outputs": [],
   "source": []
  },
  {
   "cell_type": "code",
   "execution_count": 30,
   "metadata": {},
   "outputs": [
    {
     "name": "stdout",
     "output_type": "stream",
     "text": [
      "Basic Information about the Series:\n",
      "-----------------------------------\n",
      "Series:\n",
      "New York       8398748\n",
      "Los Angeles    3990456\n",
      "Chicago        2705994\n",
      "Houston        2325502\n",
      "Phoenix        1660272\n",
      "dtype: int64\n",
      "\n",
      "\n",
      "Length of the Series:\n",
      "5\n",
      "\n",
      "\n",
      "Data Type of the Series:\n",
      "int64\n",
      "\n",
      "\n",
      "Checking for Null Values:\n",
      "False\n",
      "\n",
      "\n",
      "Statistical Information about the Series:\n",
      "count    5.000000e+00\n",
      "mean     3.816194e+06\n",
      "std      2.698744e+06\n",
      "min      1.660272e+06\n",
      "25%      2.325502e+06\n",
      "50%      2.705994e+06\n",
      "75%      3.990456e+06\n",
      "max      8.398748e+06\n",
      "dtype: float64\n"
     ]
    }
   ],
   "source": [
    "import pandas as pd\n",
    "\n",
    "# Population data for different cities\n",
    "population_data = {'New York': 8398748,\n",
    "                   'Los Angeles': 3990456,\n",
    "                   'Chicago': 2705994,\n",
    "                   'Houston': 2325502,\n",
    "                   'Phoenix': 1660272}\n",
    "\n",
    "# Creating a Pandas Series from the population data\n",
    "population_series = pd.Series(population_data)\n",
    "\n",
    "# Basic Information about the Series\n",
    "print(\"Basic Information about the Series:\")\n",
    "print(\"-----------------------------------\")\n",
    "print(\"Series:\")\n",
    "print(population_series)\n",
    "print(\"\\n\")\n",
    "\n",
    "# Length of the Series\n",
    "print(\"Length of the Series:\")\n",
    "print(len(population_series))\n",
    "print(\"\\n\")\n",
    "\n",
    "# Data Type of the Series\n",
    "print(\"Data Type of the Series:\")\n",
    "print(population_series.dtype)\n",
    "print(\"\\n\")\n",
    "\n",
    "# Checking for Null Values\n",
    "print(\"Checking for Null Values:\")\n",
    "print(population_series.isnull().any())\n",
    "print(\"\\n\")\n",
    "\n",
    "# Statistical Information about the Series\n",
    "print(\"Statistical Information about the Series:\")\n",
    "print(population_series.describe())\n",
    "\n",
    "\n",
    "\n",
    "import pandas as pd\n",
    "\n",
    "# Example Series\n",
    "series = pd.Series([10, 20, 30, 40, 50])\n",
    "\n",
    "# series.head()\n",
    "print(series.head())\n",
    "# Output:\n",
    "# 0    10\n",
    "# 1    20\n",
    "# 2    30\n",
    "# 3    40\n",
    "# 4    50\n",
    "# dtype: int64\n",
    "\n",
    "# series.tail()\n",
    "print(series.tail())\n",
    "# Output:\n",
    "# 0    10\n",
    "# 1    20\n",
    "# 2    30\n",
    "# 3    40\n",
    "# 4    50\n",
    "# dtype: int64\n",
    "\n",
    "# series.describe()\n",
    "print(series.describe())\n",
    "# Output:\n",
    "# count     5.000000\n",
    "# mean     30.000000\n",
    "# std      15.811388\n",
    "# min      10.000000\n",
    "# 25%      20.000000\n",
    "# 50%      30.000000\n",
    "# 75%      40.000000\n",
    "# max      50.000000\n",
    "# dtype: float64\n",
    "\n",
    "# series.info()\n",
    "print(series.info())\n",
    "# Output:\n",
    "# <class 'pandas.core.series.Series'>\n",
    "# RangeIndex: 5 entries, 0 to 4\n",
    "# dtype: int64\n",
    "\n",
    "# series.shape\n",
    "print(series.shape)\n",
    "# Output:\n",
    "# (5,)\n",
    "\n"
   ]
  },
  {
   "cell_type": "markdown",
   "metadata": {},
   "source": [
    "# basic attribute realated to series"
   ]
  },
  {
   "cell_type": "code",
   "execution_count": null,
   "metadata": {},
   "outputs": [],
   "source": []
  },
  {
   "cell_type": "code",
   "execution_count": 29,
   "metadata": {},
   "outputs": [
    {
     "name": "stdout",
     "output_type": "stream",
     "text": [
      "Attributes of the Series:\n",
      "--------------------------\n",
      "Index:\n",
      "Index(['Product A', 'Product B', 'Product C', 'Product D', 'Product E'], dtype='object')\n",
      "\n",
      "\n",
      "Name:\n",
      "None\n",
      "\n",
      "\n",
      "Values:\n",
      "[100 150 200 120 180]\n",
      "\n",
      "\n",
      "Is Unique:\n",
      "True\n",
      "\n",
      "\n",
      "Size:\n",
      "5\n",
      "\n",
      "\n",
      "Data Type:\n",
      "int64\n",
      "\n",
      "\n",
      "Empty:\n",
      "False\n",
      "\n",
      "\n",
      "Shape:\n",
      "(5,)\n",
      "\n",
      "\n",
      "Memory Usage:\n",
      "80\n",
      "\n",
      "\n"
     ]
    }
   ],
   "source": [
    "import pandas as pd\n",
    "\n",
    "# Example sales data\n",
    "sales_data = {'Product A': 100,\n",
    "              'Product B': 150,\n",
    "              'Product C': 200,\n",
    "              'Product D': 120,\n",
    "              'Product E': 180}\n",
    "\n",
    "# Creating a Pandas Series from the sales data\n",
    "sales_series = pd.Series(sales_data)\n",
    "\n",
    "# Attributes of the Series\n",
    "print(\"Attributes of the Series:\")\n",
    "print(\"--------------------------\")\n",
    "\n",
    "# Index attribute: Index of the Series\n",
    "print(\"Index:\")\n",
    "print(sales_series.index)\n",
    "print(\"\\n\")\n",
    "\n",
    "# Name attribute: Name of the Series\n",
    "print(\"Name:\")\n",
    "print(sales_series.name)\n",
    "print(\"\\n\")\n",
    "\n",
    "# Values attribute: Values of the Series\n",
    "print(\"Values:\")\n",
    "print(sales_series.values)\n",
    "print(\"\\n\")\n",
    "\n",
    "# Is_unique attribute: Whether the values in the Series are unique\n",
    "print(\"Is Unique:\")\n",
    "print(sales_series.is_unique)\n",
    "print(\"\\n\")\n",
    "\n",
    "# Size attribute: Number of elements in the Series\n",
    "print(\"Size:\")\n",
    "print(sales_series.size)\n",
    "print(\"\\n\")\n",
    "\n",
    "# Dtype attribute: Data type of the values in the Series\n",
    "print(\"Data Type:\")\n",
    "print(sales_series.dtype)\n",
    "print(\"\\n\")\n",
    "\n",
    "# Empty attribute: Whether the Series is empty\n",
    "print(\"Empty:\")\n",
    "print(sales_series.empty)\n",
    "print(\"\\n\")\n",
    "\n",
    "# Shape attribute: Shape of the Series (number of rows, number of columns)\n",
    "print(\"Shape:\")\n",
    "print(sales_series.shape)\n",
    "print(\"\\n\")\n",
    "\n",
    "# Memory_usage attribute: Memory usage of the Series\n",
    "print(\"Memory Usage:\")\n",
    "print(sales_series.memory_usage())\n",
    "print(\"\\n\")\n"
   ]
  },
  {
   "cell_type": "code",
   "execution_count": null,
   "metadata": {},
   "outputs": [],
   "source": []
  },
  {
   "cell_type": "markdown",
   "metadata": {},
   "source": [
    "# basic methods used in  series "
   ]
  },
  {
   "cell_type": "code",
   "execution_count": null,
   "metadata": {},
   "outputs": [],
   "source": []
  },
  {
   "cell_type": "code",
   "execution_count": 49,
   "metadata": {},
   "outputs": [
    {
     "name": "stdout",
     "output_type": "stream",
     "text": [
      "astype - Converted to integer:\n",
      "Alice      85.0\n",
      "Bob        72.0\n",
      "Charlie     NaN\n",
      "David      90.0\n",
      "Eva        68.0\n",
      "Frank      82.0\n",
      "Grace       NaN\n",
      "dtype: object\n",
      "\n",
      "\n",
      "between - Values between 70 and 85:\n",
      "Alice       True\n",
      "Bob         True\n",
      "Charlie    False\n",
      "David      False\n",
      "Eva        False\n",
      "Frank       True\n",
      "Grace      False\n",
      "dtype: bool\n",
      "\n",
      "\n",
      "clip - Clipped values between 70 and 85:\n",
      "Alice      85.0\n",
      "Bob        72.0\n",
      "Charlie     NaN\n",
      "David      85.0\n",
      "Eva        70.0\n",
      "Frank      82.0\n",
      "Grace       NaN\n",
      "dtype: float64\n",
      "\n",
      "\n",
      "drop_duplicates - Series with duplicate values removed:\n",
      "Alice      85.0\n",
      "Bob        72.0\n",
      "Charlie     NaN\n",
      "David      90.0\n",
      "Eva        68.0\n",
      "Frank      82.0\n",
      "dtype: float64\n",
      "\n",
      "\n",
      "isnull - Missing values identified:\n",
      "Alice      False\n",
      "Bob        False\n",
      "Charlie     True\n",
      "David      False\n",
      "Eva        False\n",
      "Frank      False\n",
      "Grace       True\n",
      "dtype: bool\n",
      "\n",
      "\n",
      "dropna - Series with missing values removed:\n",
      "Alice    85.0\n",
      "Bob      72.0\n",
      "David    90.0\n",
      "Eva      68.0\n",
      "Frank    82.0\n",
      "dtype: float64\n",
      "\n",
      "\n",
      "fillna - Missing values filled with 75:\n",
      "Alice      85.0\n",
      "Bob        72.0\n",
      "Charlie    75.0\n",
      "David      90.0\n",
      "Eva        68.0\n",
      "Frank      82.0\n",
      "Grace      75.0\n",
      "dtype: float64\n",
      "\n",
      "\n",
      "isin - Values in [70, 75, 80]:\n",
      "Alice      False\n",
      "Bob        False\n",
      "Charlie    False\n",
      "David      False\n",
      "Eva        False\n",
      "Frank      False\n",
      "Grace      False\n",
      "dtype: bool\n",
      "\n",
      "\n",
      "apply - Curved grades (added 5, capped at 100):\n",
      "Alice      90.0\n",
      "Bob        77.0\n",
      "Charlie     NaN\n",
      "David      95.0\n",
      "Eva        73.0\n",
      "Frank      87.0\n",
      "Grace       NaN\n",
      "dtype: float64\n",
      "\n",
      "\n",
      "copy - Copy of the original Series:\n",
      "Alice      85.0\n",
      "Bob        72.0\n",
      "Charlie     NaN\n",
      "David      90.0\n",
      "Eva        68.0\n",
      "Frank      82.0\n",
      "Grace       NaN\n",
      "dtype: float64\n"
     ]
    }
   ],
   "source": [
    "import pandas as pd\n",
    "import numpy as np\n",
    "\n",
    "# Student grades data\n",
    "grades_data = {'Alice': 85,\n",
    "               'Bob': 72,\n",
    "               'Charlie': np.nan,\n",
    "               'David': 90,\n",
    "               'Eva': 68,\n",
    "               'Frank': 82,\n",
    "               'Grace': np.nan}\n",
    "\n",
    "# Creating a Pandas Series from the grades data\n",
    "grades_series = pd.Series(grades_data)\n",
    "\n",
    "# astype: Convert the data type of the Series\n",
    "grades_series_int = grades_series.astype(object)\n",
    "print(\"astype - Converted to integer:\")\n",
    "print(grades_series_int)\n",
    "print(\"\\n\")\n",
    "\n",
    "# between: Return boolean Series equivalent to left <= series <= right\n",
    "between_series = grades_series.between(70, 85)\n",
    "print(\"between - Values between 70 and 85:\")\n",
    "print(between_series)\n",
    "print(\"\\n\")\n",
    "\n",
    "# clip: Trim values at input threshold(s)\n",
    "clipped_series = grades_series.clip(70, 85)\n",
    "print(\"clip - Clipped values between 70 and 85:\")\n",
    "print(clipped_series)\n",
    "print(\"\\n\")\n",
    "\n",
    "# drop_duplicates: Return Series with duplicate values removed\n",
    "unique_grades_series = grades_series.drop_duplicates()\n",
    "print(\"drop_duplicates - Series with duplicate values removed:\")\n",
    "print(unique_grades_series)\n",
    "print(\"\\n\")\n",
    "\n",
    "# isnull: Return a boolean Series showing missing values\n",
    "null_mask = grades_series.isnull()\n",
    "print(\"isnull - Missing values identified:\")\n",
    "print(null_mask)\n",
    "print(\"\\n\")\n",
    "\n",
    "# dropna: Return Series with missing values removed\n",
    "clean_grades_series = grades_series.dropna()\n",
    "print(\"dropna - Series with missing values removed:\")\n",
    "print(clean_grades_series)\n",
    "print(\"\\n\")\n",
    "\n",
    "# fillna: Fill missing values with specified method or value\n",
    "filled_grades_series = grades_series.fillna(75)  # Filling missing values with 75\n",
    "print(\"fillna - Missing values filled with 75:\")\n",
    "print(filled_grades_series)\n",
    "print(\"\\n\")\n",
    "\n",
    "# isin: Return a boolean Series indicating whether each element is contained in the values\n",
    "isin_series = grades_series.isin([70, 75, 80])\n",
    "print(\"isin - Values in [70, 75, 80]:\")\n",
    "print(isin_series)\n",
    "print(\"\\n\")\n",
    "\n",
    "# apply: Apply a function to each element of the Series\n",
    "def curve_grade(grade):\n",
    "    return min(grade + 5, 100)  # Curve grades by adding 5, with a maximum of 100\n",
    "\n",
    "curved_grades_series = grades_series.apply(curve_grade)\n",
    "print(\"apply - Curved grades (added 5, capped at 100):\")\n",
    "print(curved_grades_series)\n",
    "print(\"\\n\")\n",
    "\n",
    "# copy: Return a copy of the Series\n",
    "grades_series_copy = grades_series.copy()\n",
    "print(\"copy - Copy of the original Series:\")\n",
    "print(grades_series_copy)\n",
    "\n",
    "\n",
    "import pandas as pd\n",
    "\n",
    "# Example Series\n",
    "series = pd.Series([10, 20, 30, None, 50], index=['A', 'B', 'C', 'D', 'E'])\n",
    "\n",
    "\n",
    "\n",
    "\n",
    "# Drops specified labels from the Series\n",
    "series_dropped = series.drop(['B', 'D'])\n",
    "\n",
    "# Fills missing values with specified method or value\n",
    "series_filled = series.fillna(0)\n",
    "\n",
    "# Applies a function to each element of the Series\n",
    "series_mapped = series.map(lambda x: x * 2)\n",
    "\n",
    "# Replaces values given in to_replace with value\n",
    "series_replaced = series.replace(30, 35)\n",
    "\n",
    "# Replaces occurrences of pattern/regex in the Series\n",
    "series_str_replaced = series.astype(str).str.replace('0', 'X')\n",
    "\n",
    "print(\"\\nDropped Series:\")\n",
    "print(series_dropped)\n",
    "print(\"\\nFilled Series:\")\n",
    "print(series_filled)\n",
    "print(\"\\nMapped Series:\")\n",
    "print(series_mapped)\n",
    "print(\"\\nReplaced Series:\")\n",
    "print(series_replaced)\n",
    "print(\"\\nString Replaced Series:\")\n",
    "print(series_str_replaced)\n",
    "\n",
    "\n",
    "\n",
    "import pandas as pd\n",
    "\n",
    "# Example Series\n",
    "series = pd.Series([10, 30, 20, 50, 40], index=['B', 'A', 'D', 'E', 'C'])\n",
    "\n",
    "# Sorts the Series by index\n",
    "sorted_by_index = series.sort_index()\n",
    "\n",
    "# Sorts the Series by values\n",
    "sorted_by_values = series.sort_values()"
   ]
  },
  {
   "cell_type": "code",
   "execution_count": null,
   "metadata": {},
   "outputs": [],
   "source": []
  },
  {
   "cell_type": "code",
   "execution_count": 28,
   "metadata": {},
   "outputs": [
    {
     "data": {
      "image/png": "[encoded data removed]",
      "text/plain": [
       "<Figure size 800x600 with 1 Axes>"
      ]
     },
     "metadata": {},
     "output_type": "display_data"
    },
    {
     "data": {
      "image/png": "[encoded data removed]",
      "text/plain": [
       "<Figure size 800x600 with 1 Axes>"
      ]
     },
     "metadata": {},
     "output_type": "display_data"
    },
    {
     "data": {
      "image/png": "[encoded data removed]",
      "text/plain": [
       "<Figure size 800x600 with 1 Axes>"
      ]
     },
     "metadata": {},
     "output_type": "display_data"
    },
    {
     "data": {
      "image/png": "[encoded data removed]",
      "text/plain": [
       "<Figure size 800x600 with 1 Axes>"
      ]
     },
     "metadata": {},
     "output_type": "display_data"
    }
   ],
   "source": [
    "import pandas as pd\n",
    "import matplotlib.pyplot as plt\n",
    "\n",
    "# Sales data for different months\n",
    "sales_data = {'January': 100,\n",
    "              'February': 120,\n",
    "              'March': 150,\n",
    "              'April': 130,\n",
    "              'May': 160}\n",
    "\n",
    "# Creating a Pandas Series from the sales data\n",
    "sales_series = pd.Series(sales_data)\n",
    "\n",
    "# Line Plot\n",
    "plt.figure(figsize=(8, 6))\n",
    "sales_series.plot(kind='line', marker='o', color='blue')\n",
    "plt.title('Sales Data for Different Months (Line Plot)')\n",
    "plt.xlabel('Month')\n",
    "plt.ylabel('Sales')\n",
    "plt.xticks(rotation=45)\n",
    "plt.grid(True)\n",
    "plt.show()\n",
    "\n",
    "# Bar Plot\n",
    "plt.figure(figsize=(8, 6))\n",
    "sales_series.plot(kind='bar', color='green')\n",
    "plt.title('Sales Data for Different Months (Bar Plot)')\n",
    "plt.xlabel('Month')\n",
    "plt.ylabel('Sales')\n",
    "plt.xticks(rotation=45)\n",
    "plt.grid(axis='y')\n",
    "plt.show()\n",
    "\n",
    "# Histogram\n",
    "plt.figure(figsize=(8, 6))\n",
    "sales_series.plot(kind='hist', color='orange', bins=5)\n",
    "plt.title('Sales Data Distribution (Histogram)')\n",
    "plt.xlabel('Sales')\n",
    "plt.ylabel('Frequency')\n",
    "plt.grid(axis='y')\n",
    "plt.show()\n",
    "\n",
    "# Pie Chart\n",
    "plt.figure(figsize=(8, 6))\n",
    "sales_series.plot(kind='pie', autopct='%1.1f%%', colors=['red', 'blue', 'green', 'purple', 'orange'])\n",
    "plt.title('Sales Data Distribution (Pie Chart)')\n",
    "plt.ylabel('')\n",
    "plt.show()\n"
   ]
  },
  {
   "cell_type": "code",
   "execution_count": null,
   "metadata": {},
   "outputs": [],
   "source": []
  },
  {
   "cell_type": "code",
   "execution_count": null,
   "metadata": {},
   "outputs": [],
   "source": []
  },
  {
   "cell_type": "code",
   "execution_count": null,
   "metadata": {},
   "outputs": [],
   "source": []
  },
  {
   "cell_type": "markdown",
   "metadata": {},
   "source": [
    "# accessing element through series "
   ]
  },
  {
   "cell_type": "code",
   "execution_count": 32,
   "metadata": {},
   "outputs": [
    {
     "name": "stdout",
     "output_type": "stream",
     "text": [
      "30\n",
      "30\n",
      "30\n",
      "A    False\n",
      "B     True\n",
      "C    False\n",
      "D     True\n",
      "E    False\n",
      "dtype: bool\n",
      "[10 20 30 40 50]\n",
      "10    1\n",
      "20    1\n",
      "30    1\n",
      "40    1\n",
      "50    1\n",
      "Name: count, dtype: int64\n"
     ]
    }
   ],
   "source": [
    "import pandas as pd\n",
    "\n",
    "# Example Series\n",
    "series = pd.Series([10, 20, 30, 40, 50], index=['A', 'B', 'C', 'D', 'E'])\n",
    "\n",
    "# Accessing elements at specified index\n",
    "print(series['C'])  # Output: 30\n",
    "\n",
    "# Accessing elements by integer position\n",
    "print(series.iloc[2])  # Output: 30\n",
    "\n",
    "# Accessing elements by label\n",
    "print(series.loc['C'])  # Output: 30\n",
    "\n",
    "# Checking whether each element is contained in values\n",
    "print(series.isin([20, 40]))  # Output: A    False, B     True, C    False, D     True, E    False, dtype: bool\n",
    "\n",
    "# Returns unique values of the Series object\n",
    "print(series.unique())  # Output: [10 20 30 40 50]\n",
    "\n",
    "# Returns counts of unique values in the Series\n",
    "print(series.value_counts())  # Output: 50    1, 40    1, 30    1, 20    1, 10    1, dtype: int64\n"
   ]
  },
  {
   "cell_type": "markdown",
   "metadata": {},
   "source": [
    "# statistical methods "
   ]
  },
  {
   "cell_type": "code",
   "execution_count": null,
   "metadata": {},
   "outputs": [],
   "source": []
  },
  {
   "cell_type": "code",
   "execution_count": 37,
   "metadata": {},
   "outputs": [
    {
     "name": "stdout",
     "output_type": "stream",
     "text": [
      "Sum: 220.0\n",
      "Mean: 36.666666666666664\n",
      "Median: 35.0\n",
      "Minimum value: 10.0\n",
      "Maximum value: 70.0\n",
      "Standard deviation: 21.602468994692867\n",
      "Variance: 466.66666666666663\n",
      "Number of non-null values: 6\n",
      "Unique values: [10. 20. 30. 40. 50. nan 70.]\n",
      "Number of unique elements: 6\n"
     ]
    }
   ],
   "source": [
    "import pandas as pd\n",
    "\n",
    "# Example Series\n",
    "series = pd.Series([10, 20, 30, 40, 50, None, 70])\n",
    "\n",
    "# Returns the sum of the values\n",
    "print(\"Sum:\", series.sum())  # Output: Sum: 220\n",
    "\n",
    "# Returns the mean of the values\n",
    "print(\"Mean:\", series.mean())  # Output: Mean: 44.0\n",
    "\n",
    "# Returns the median of the values\n",
    "print(\"Median:\", series.median())  # Output: Median: 40.0\n",
    "\n",
    "# Returns the minimum value\n",
    "print(\"Minimum value:\", series.min())  # Output: Minimum value: 10.0\n",
    "\n",
    "# Returns the maximum value\n",
    "print(\"Maximum value:\", series.max())  # Output: Maximum value: 70.0\n",
    "\n",
    "# Returns the standard deviation of the values\n",
    "print(\"Standard deviation:\", series.std())  # Output: Standard deviation: 22.825424421026653\n",
    "\n",
    "# Returns the variance of the values\n",
    "print(\"Variance:\", series.var())  # Output: Variance: 520.0\n",
    "\n",
    "# Returns the number of non-null values\n",
    "print(\"Number of non-null values:\", series.count())  # Output: Number of non-null values: 6\n",
    "\n",
    "# Returns unique values of Series object\n",
    "print(\"Unique values:\", series.unique())  # Output: Unique values: [10. 20. 30. 40. 50. nan 70.]\n",
    "\n",
    "# Returns number of unique elements in the Series\n",
    "print(\"Number of unique elements:\", series.nunique())  # Output: Number of unique elements: 6\n"
   ]
  },
  {
   "cell_type": "code",
   "execution_count": null,
   "metadata": {},
   "outputs": [],
   "source": []
  },
  {
   "cell_type": "markdown",
   "metadata": {},
   "source": [
    "# convert into other data form"
   ]
  },
  {
   "cell_type": "code",
   "execution_count": null,
   "metadata": {},
   "outputs": [],
   "source": []
  },
  {
   "cell_type": "code",
   "execution_count": 39,
   "metadata": {},
   "outputs": [
    {
     "name": "stdout",
     "output_type": "stream",
     "text": [
      "Casted Series:\n",
      "0    10.0\n",
      "1    20.0\n",
      "2    30.0\n",
      "3    40.0\n",
      "4    50.0\n",
      "dtype: float64\n",
      "\n",
      "Converted to Python list:\n",
      "[10, 20, 30, 40, 50]\n",
      "\n",
      "Converted to Python dictionary:\n",
      "{0: 10, 1: 20, 2: 30, 3: 40, 4: 50}\n",
      "\n",
      "Converted to NumPy array:\n",
      "[10 20 30 40 50]\n",
      "\n",
      "Series converted to DataFrame:\n",
      "    0\n",
      "0  10\n",
      "1  20\n",
      "2  30\n",
      "3  40\n",
      "4  50\n"
     ]
    }
   ],
   "source": [
    "import pandas as pd\n",
    "\n",
    "# Example Series\n",
    "series = pd.Series([10, 20, 30, 40, 50])\n",
    "\n",
    "# Casts the Series to a specified dtype\n",
    "series_casted = series.astype(float)\n",
    "\n",
    "# Converts the Series to a Python list\n",
    "series_list = series.tolist()\n",
    "\n",
    "# Converts the Series to a Python dictionary\n",
    "series_dict = series.to_dict()\n",
    "\n",
    "# Converts the Series to a NumPy array\n",
    "series_numpy = series.to_numpy()\n",
    "\n",
    "# Writes the Series to a CSV file\n",
    "series.to_csv(\"series_data.csv\")\n",
    "\n",
    "# Converts the Series to a DataFrame\n",
    "series_frame = series.to_frame()\n",
    "\n",
    "print(\"Casted Series:\")\n",
    "print(series_casted)\n",
    "# Output:\n",
    "# 0    10.0\n",
    "# 1    20.0\n",
    "# 2    30.0\n",
    "# 3    40.0\n",
    "# 4    50.0\n",
    "# dtype: float64\n",
    "\n",
    "print(\"\\nConverted to Python list:\")\n",
    "print(series_list)\n",
    "# Output: [10, 20, 30, 40, 50]\n",
    "\n",
    "print(\"\\nConverted to Python dictionary:\")\n",
    "print(series_dict)\n",
    "# Output: {0: 10, 1: 20, 2: 30, 3: 40, 4: 50}\n",
    "\n",
    "print(\"\\nConverted to NumPy array:\")\n",
    "print(series_numpy)\n",
    "# Output: [10 20 30 40 50]\n",
    "\n",
    "print(\"\\nSeries converted to DataFrame:\")\n",
    "print(series_frame)\n",
    "# Output:\n",
    "#     0\n",
    "# 0  10\n",
    "# 1  20\n",
    "# 2  30\n",
    "# 3  40\n",
    "# 4  50\n",
    "\n"
   ]
  },
  {
   "cell_type": "code",
   "execution_count": null,
   "metadata": {},
   "outputs": [],
   "source": []
  },
  {
   "cell_type": "code",
   "execution_count": null,
   "metadata": {},
   "outputs": [],
   "source": []
  },
  {
   "cell_type": "markdown",
   "metadata": {},
   "source": [
    "# save as a different file format "
   ]
  },
  {
   "cell_type": "code",
   "execution_count": null,
   "metadata": {},
   "outputs": [],
   "source": []
  },
  {
   "cell_type": "code",
   "execution_count": 51,
   "metadata": {},
   "outputs": [
    {
     "name": "stdout",
     "output_type": "stream",
     "text": [
      "Series successfully saved to CSV, Excel, and pickle formats.\n"
     ]
    }
   ],
   "source": [
    "import pandas as pd\n",
    "\n",
    "# Example Series\n",
    "series = pd.Series([10, 20, 30, 40, 50], index=['A', 'B', 'C', 'D', 'E'])\n",
    "\n",
    "# Writes the Series to a CSV file\n",
    "series.to_csv(\"series_data.csv\")\n",
    "\n",
    "# Converts the Series to a JSON string\n",
    "series_json = series.to_json(\"myfile.json\")\n",
    "\n",
    "# Writes the Series to an Excel file\n",
    "series.to_excel(\"series_data.xlsx\")\n",
    "\n",
    "# Serializes the Series to a pickle format\n",
    "series.to_pickle(\"series_data.pkl\")\n",
    "\n",
    "print(\"Series successfully saved to CSV, Excel, and pickle formats.\")\n"
   ]
  },
  {
   "cell_type": "code",
   "execution_count": null,
   "metadata": {},
   "outputs": [],
   "source": [
    "\n"
   ]
  },
  {
   "cell_type": "markdown",
   "metadata": {},
   "source": [
    "# basic operation between two series "
   ]
  },
  {
   "cell_type": "markdown",
   "metadata": {},
   "source": []
  },
  {
   "cell_type": "code",
   "execution_count": null,
   "metadata": {},
   "outputs": [],
   "source": []
  },
  {
   "cell_type": "code",
   "execution_count": 41,
   "metadata": {},
   "outputs": [
    {
     "name": "stdout",
     "output_type": "stream",
     "text": [
      "Added Series:\n",
      "0    12\n",
      "1    23\n",
      "2    34\n",
      "3    45\n",
      "4    56\n",
      "dtype: int64\n",
      "\n",
      "Subtracted Series:\n",
      "0     8\n",
      "1    17\n",
      "2    26\n",
      "3    35\n",
      "4    44\n",
      "dtype: int64\n",
      "\n",
      "Multiplied Series:\n",
      "0     20\n",
      "1     60\n",
      "2    120\n",
      "3    200\n",
      "4    300\n",
      "dtype: int64\n",
      "\n",
      "Divided Series:\n",
      "0    5.000000\n",
      "1    6.666667\n",
      "2    7.500000\n",
      "3    8.000000\n",
      "4    8.333333\n",
      "dtype: float64\n",
      "\n",
      "Modulo Series:\n",
      "0    0\n",
      "1    2\n",
      "2    2\n",
      "3    0\n",
      "4    2\n",
      "dtype: int64\n",
      "\n",
      "Exponential Power Series:\n",
      "0            100\n",
      "1           8000\n",
      "2         810000\n",
      "3      102400000\n",
      "4    15625000000\n",
      "dtype: int64\n",
      "\n",
      "Absolute Series:\n",
      "0    10\n",
      "1    20\n",
      "2    30\n",
      "3    40\n",
      "4    50\n",
      "dtype: int64\n",
      "\n",
      "Clipped Series:\n",
      "0    15\n",
      "1    20\n",
      "2    30\n",
      "3    35\n",
      "4    35\n",
      "dtype: int64\n"
     ]
    }
   ],
   "source": [
    "import pandas as pd\n",
    "\n",
    "# Example Series\n",
    "series1 = pd.Series([10, 20, 30, 40, 50])\n",
    "series2 = pd.Series([2, 3, 4, 5, 6])\n",
    "\n",
    "# Addition of series and other, element-wise\n",
    "added_series = series1.add(series2)\n",
    "\n",
    "# Subtraction of series and other, element-wise\n",
    "subtracted_series = series1.sub(series2)\n",
    "\n",
    "# Multiplication of series and other, element-wise\n",
    "multiplied_series = series1.mul(series2)\n",
    "\n",
    "# Floating division of series and other, element-wise\n",
    "divided_series = series1.div(series2)\n",
    "\n",
    "\n",
    "\n",
    "# Exponential power of series and other, element-wise\n",
    "pow_series = series1.pow(series2)\n",
    "\n",
    "# Absolute numeric value of each element\n",
    "abs_series = series1.abs()\n",
    "\n",
    "# Trim values at input threshold(s)\n",
    "clip_series = series1.clip(lower=15, upper=35)\n",
    "\n",
    "print(\"Added Series:\")\n",
    "print(added_series)\n",
    "print(\"\\nSubtracted Series:\")\n",
    "print(subtracted_series)\n",
    "print(\"\\nMultiplied Series:\")\n",
    "print(multiplied_series)\n",
    "print(\"\\nDivided Series:\")\n",
    "print(divided_series)\n",
    "print(\"\\nModulo Series:\")\n",
    "\n",
    "print(pow_series)\n",
    "print(\"\\nAbsolute Series:\")\n",
    "print(abs_series)\n",
    "print(\"\\nClipped Series:\")\n",
    "print(clip_series)\n"
   ]
  },
  {
   "cell_type": "code",
   "execution_count": 60,
   "metadata": {},
   "outputs": [
    {
     "data": {
      "text/plain": [
       "A    10\n",
       "B    20\n",
       "C    30\n",
       "D    40\n",
       "B     5\n",
       "C    15\n",
       "D    25\n",
       "E    35\n",
       "dtype: int64"
      ]
     },
     "execution_count": 60,
     "metadata": {},
     "output_type": "execute_result"
    }
   ],
   "source": [
    "import pandas as pd\n",
    "\n",
    "# First Series\n",
    "series1 = pd.Series([10, 20, 30, 40], index=['A', 'B', 'C', 'D'])\n",
    "\n",
    "# Second Series\n",
    "series2 = pd.Series([5, 15, 25, 35], index=['B', 'C', 'D', 'E'])\n",
    "\n",
    "\n",
    "concatenated_series = pd.concat([series1, series2])\n",
    "concatenated_series"
   ]
  },
  {
   "cell_type": "code",
   "execution_count": null,
   "metadata": {},
   "outputs": [],
   "source": [
    "###\n",
    "\n",
    "\n",
    "\n"
   ]
  },
  {
   "cell_type": "code",
   "execution_count": 2,
   "metadata": {},
   "outputs": [],
   "source": [
    "# day 3 content :\n",
    "import pandas as pd\n",
    "import numpy as np \n"
   ]
  },
  {
   "cell_type": "code",
   "execution_count": 3,
   "metadata": {},
   "outputs": [
    {
     "data": {
      "text/plain": [
       "1    3\n",
       "2    2\n",
       "3    1\n",
       "Name: count, dtype: int64"
      ]
     },
     "execution_count": 3,
     "metadata": {},
     "output_type": "execute_result"
    }
   ],
   "source": [
    "a = pd.Series([1,1,1,2,2,3])\n",
    "a.value_counts()"
   ]
  },
  {
   "cell_type": "code",
   "execution_count": 4,
   "metadata": {},
   "outputs": [
    {
     "data": {
      "text/html": [
       "<div>\n",
       "<style scoped>\n",
       "    .dataframe tbody tr th:only-of-type {\n",
       "        vertical-align: middle;\n",
       "    }\n",
       "\n",
       "    .dataframe tbody tr th {\n",
       "        vertical-align: top;\n",
       "    }\n",
       "\n",
       "    .dataframe thead th {\n",
       "        text-align: right;\n",
       "    }\n",
       "</style>\n",
       "<table border=\"1\" class=\"dataframe\">\n",
       "  <thead>\n",
       "    <tr style=\"text-align: right;\">\n",
       "      <th></th>\n",
       "      <th>iq</th>\n",
       "      <th>marks</th>\n",
       "      <th>package</th>\n",
       "    </tr>\n",
       "  </thead>\n",
       "  <tbody>\n",
       "    <tr>\n",
       "      <th>0</th>\n",
       "      <td>100</td>\n",
       "      <td>80</td>\n",
       "      <td>10</td>\n",
       "    </tr>\n",
       "    <tr>\n",
       "      <th>1</th>\n",
       "      <td>90</td>\n",
       "      <td>70</td>\n",
       "      <td>7</td>\n",
       "    </tr>\n",
       "    <tr>\n",
       "      <th>2</th>\n",
       "      <td>120</td>\n",
       "      <td>100</td>\n",
       "      <td>14</td>\n",
       "    </tr>\n",
       "    <tr>\n",
       "      <th>3</th>\n",
       "      <td>80</td>\n",
       "      <td>70</td>\n",
       "      <td>14</td>\n",
       "    </tr>\n",
       "    <tr>\n",
       "      <th>4</th>\n",
       "      <td>80</td>\n",
       "      <td>70</td>\n",
       "      <td>14</td>\n",
       "    </tr>\n",
       "  </tbody>\n",
       "</table>\n",
       "</div>"
      ],
      "text/plain": [
       "    iq  marks  package\n",
       "0  100     80       10\n",
       "1   90     70        7\n",
       "2  120    100       14\n",
       "3   80     70       14\n",
       "4   80     70       14"
      ]
     },
     "execution_count": 4,
     "metadata": {},
     "output_type": "execute_result"
    }
   ],
   "source": [
    "marks = pd.DataFrame([\n",
    "    [100,80,10],\n",
    "    [90,70,7],\n",
    "    [120,100,14],\n",
    "    [80,70,14],\n",
    "    [80,70,14]\n",
    "],columns=['iq','marks','package'])\n",
    "\n",
    "marks"
   ]
  },
  {
   "cell_type": "code",
   "execution_count": 7,
   "metadata": {},
   "outputs": [
    {
     "data": {
      "text/plain": [
       "iq   marks  package\n",
       "80   70     14         2\n",
       "90   70     7          1\n",
       "100  80     10         1\n",
       "120  100    14         1\n",
       "Name: count, dtype: int64"
      ]
     },
     "execution_count": 7,
     "metadata": {},
     "output_type": "execute_result"
    }
   ],
   "source": [
    "marks.value_counts()"
   ]
  },
  {
   "cell_type": "code",
   "execution_count": 8,
   "metadata": {},
   "outputs": [
    {
     "data": {
      "text/plain": [
       "<Axes: xlabel='iq,marks,package'>"
      ]
     },
     "execution_count": 8,
     "metadata": {},
     "output_type": "execute_result"
    },
    {
     "data": {
      "image/png": "[encoded data removed]",
      "text/plain": [
       "<Figure size 640x480 with 1 Axes>"
      ]
     },
     "metadata": {},
     "output_type": "display_data"
    }
   ],
   "source": [
    "marks.value_counts().plot(kind='bar')"
   ]
  },
  {
   "cell_type": "code",
   "execution_count": 11,
   "metadata": {},
   "outputs": [
    {
     "data": {
      "text/plain": [
       "iq   marks  package\n",
       "80   70     14         2\n",
       "90   70     7          1\n",
       "100  80     10         1\n",
       "120  100    14         1\n",
       "Name: count, dtype: int64"
      ]
     },
     "execution_count": 11,
     "metadata": {},
     "output_type": "execute_result"
    }
   ],
   "source": [
    "# sort_values :ka use krna seekho\n",
    "\n",
    "marks.value_counts().sort_values(ascending=False)"
   ]
  },
  {
   "cell_type": "code",
   "execution_count": 18,
   "metadata": {},
   "outputs": [
    {
     "data": {
      "text/plain": [
       "iq   marks  package\n",
       "80   70     14         2\n",
       "90   70     7          1\n",
       "100  80     10         1\n",
       "120  100    14         1\n",
       "Name: count, dtype: int64"
      ]
     },
     "execution_count": 18,
     "metadata": {},
     "output_type": "execute_result"
    }
   ],
   "source": [
    "marks.sort_values('package',ascending=False).value_counts()"
   ]
  },
  {
   "cell_type": "code",
   "execution_count": 20,
   "metadata": {},
   "outputs": [
    {
     "name": "stdout",
     "output_type": "stream",
     "text": [
      "     A    B    C\n",
      "0  1.0  NaN  1.0\n",
      "1  2.0  2.0  NaN\n",
      "2  NaN  3.0  3.0\n",
      "3  4.0  NaN  4.0\n",
      "4  5.0  5.0  NaN\n"
     ]
    }
   ],
   "source": [
    "import pandas as pd\n",
    "\n",
    "data = {\n",
    "    'A': [1, 2, None, 4, 5],\n",
    "    'B': [None, 2, 3, None, 5],\n",
    "    'C': [1, None, 3, 4, None]\n",
    "}\n",
    "\n",
    "sam= pd.DataFrame(data)\n",
    "\n",
    "print(df)"
   ]
  },
  {
   "cell_type": "code",
   "execution_count": 28,
   "metadata": {},
   "outputs": [
    {
     "data": {
      "text/html": [
       "<div>\n",
       "<style scoped>\n",
       "    .dataframe tbody tr th:only-of-type {\n",
       "        vertical-align: middle;\n",
       "    }\n",
       "\n",
       "    .dataframe tbody tr th {\n",
       "        vertical-align: top;\n",
       "    }\n",
       "\n",
       "    .dataframe thead th {\n",
       "        text-align: right;\n",
       "    }\n",
       "</style>\n",
       "<table border=\"1\" class=\"dataframe\">\n",
       "  <thead>\n",
       "    <tr style=\"text-align: right;\">\n",
       "      <th></th>\n",
       "      <th>A</th>\n",
       "      <th>B</th>\n",
       "      <th>C</th>\n",
       "    </tr>\n",
       "  </thead>\n",
       "  <tbody>\n",
       "    <tr>\n",
       "      <th>2</th>\n",
       "      <td>NaN</td>\n",
       "      <td>3.0</td>\n",
       "      <td>3.0</td>\n",
       "    </tr>\n",
       "    <tr>\n",
       "      <th>0</th>\n",
       "      <td>1.0</td>\n",
       "      <td>NaN</td>\n",
       "      <td>1.0</td>\n",
       "    </tr>\n",
       "    <tr>\n",
       "      <th>1</th>\n",
       "      <td>2.0</td>\n",
       "      <td>2.0</td>\n",
       "      <td>NaN</td>\n",
       "    </tr>\n",
       "    <tr>\n",
       "      <th>3</th>\n",
       "      <td>4.0</td>\n",
       "      <td>NaN</td>\n",
       "      <td>4.0</td>\n",
       "    </tr>\n",
       "    <tr>\n",
       "      <th>4</th>\n",
       "      <td>5.0</td>\n",
       "      <td>5.0</td>\n",
       "      <td>NaN</td>\n",
       "    </tr>\n",
       "  </tbody>\n",
       "</table>\n",
       "</div>"
      ],
      "text/plain": [
       "     A    B    C\n",
       "2  NaN  3.0  3.0\n",
       "0  1.0  NaN  1.0\n",
       "1  2.0  2.0  NaN\n",
       "3  4.0  NaN  4.0\n",
       "4  5.0  5.0  NaN"
      ]
     },
     "execution_count": 28,
     "metadata": {},
     "output_type": "execute_result"
    }
   ],
   "source": [
    "sam.sort_values([\"A\"],na_position=\"first\")"
   ]
  },
  {
   "cell_type": "code",
   "execution_count": 32,
   "metadata": {},
   "outputs": [
    {
     "data": {
      "text/html": [
       "<div>\n",
       "<style scoped>\n",
       "    .dataframe tbody tr th:only-of-type {\n",
       "        vertical-align: middle;\n",
       "    }\n",
       "\n",
       "    .dataframe tbody tr th {\n",
       "        vertical-align: top;\n",
       "    }\n",
       "\n",
       "    .dataframe thead th {\n",
       "        text-align: right;\n",
       "    }\n",
       "</style>\n",
       "<table border=\"1\" class=\"dataframe\">\n",
       "  <thead>\n",
       "    <tr style=\"text-align: right;\">\n",
       "      <th></th>\n",
       "      <th>iq</th>\n",
       "      <th>marks</th>\n",
       "      <th>package</th>\n",
       "    </tr>\n",
       "  </thead>\n",
       "  <tbody>\n",
       "    <tr>\n",
       "      <th>0</th>\n",
       "      <td>100</td>\n",
       "      <td>80</td>\n",
       "      <td>10</td>\n",
       "    </tr>\n",
       "    <tr>\n",
       "      <th>1</th>\n",
       "      <td>90</td>\n",
       "      <td>70</td>\n",
       "      <td>7</td>\n",
       "    </tr>\n",
       "    <tr>\n",
       "      <th>2</th>\n",
       "      <td>120</td>\n",
       "      <td>100</td>\n",
       "      <td>14</td>\n",
       "    </tr>\n",
       "    <tr>\n",
       "      <th>3</th>\n",
       "      <td>80</td>\n",
       "      <td>70</td>\n",
       "      <td>14</td>\n",
       "    </tr>\n",
       "    <tr>\n",
       "      <th>4</th>\n",
       "      <td>80</td>\n",
       "      <td>70</td>\n",
       "      <td>14</td>\n",
       "    </tr>\n",
       "  </tbody>\n",
       "</table>\n",
       "</div>"
      ],
      "text/plain": [
       "    iq  marks  package\n",
       "0  100     80       10\n",
       "1   90     70        7\n",
       "2  120    100       14\n",
       "3   80     70       14\n",
       "4   80     70       14"
      ]
     },
     "execution_count": 32,
     "metadata": {},
     "output_type": "execute_result"
    }
   ],
   "source": [
    "marks.sort_index()   # index ko sort krne k leye hota \n"
   ]
  },
  {
   "cell_type": "code",
   "execution_count": 36,
   "metadata": {},
   "outputs": [],
   "source": [
    "# unique --> it gives unique value for the column \n",
    "# nunique()  used for the non unique value \n",
    "\n"
   ]
  },
  {
   "cell_type": "code",
   "execution_count": null,
   "metadata": {},
   "outputs": [],
   "source": []
  }
 ],
 "metadata": {
  "kernelspec": {
   "display_name": "base",
   "language": "python",
   "name": "python3"
  },
  "language_info": {
   "codemirror_mode": {
    "name": "ipython",
    "version": 3
   },
   "file_extension": ".py",
   "mimetype": "text/x-python",
   "name": "python",
   "nbconvert_exporter": "python",
   "pygments_lexer": "ipython3",
   "version": "3.11.6"
  }
 },
 "nbformat": 4,
 "nbformat_minor": 2
}
